{
  "cells": [
    {
      "cell_type": "code",
      "execution_count": null,
      "metadata": {},
      "outputs": [],
      "source": [
        "import torch\n",
        "import torch.nn as nn\n",
        "import torch.optim as optim\n",
        "import torchvision.transforms as transforms\n",
        "import torchvision.datasets as datasets\n",
        "from torch.utils.data import DataLoader, random_split\n",
        "import optuna\n",
        "import os\n",
        "from tqdm import tqdm\n",
        "import matplotlib.pyplot as plt\n"
      ]
    },
    {
      "cell_type": "code",
      "execution_count": null,
      "metadata": {},
      "outputs": [],
      "source": [
        "def create_model(trial, num_classes):\n",
        "    n_conv_layers = trial.suggest_int('n_conv_layers', 2, 4)\n",
        "\n",
        "    initial_channels = trial.suggest_categorical('initial_channels', [32, 64, 128])\n",
        "\n",
        "    conv_layers = []\n",
        "    in_channels = 3\n",
        "    out_channels = initial_channels\n",
        "\n",
        "    for i in range(n_conv_layers):\n",
        "        conv_layers.extend([\n",
        "            nn.Conv2d(in_channels, out_channels, kernel_size=3, padding=1),\n",
        "            nn.ReLU(),\n",
        "            nn.MaxPool2d(kernel_size=2, stride=2)\n",
        "        ])\n",
        "        in_channels = out_channels\n",
        "        out_channels = trial.suggest_categorical(f'conv_{i}_out_channels', [64, 128, 256])\n",
        "\n",
        "    def calculate_conv_output_size():\n",
        "        x = torch.randn(1, 3, 128, 128)\n",
        "        conv_seq = nn.Sequential(*conv_layers)\n",
        "        return conv_seq(x).view(1, -1).size(1)\n",
        "\n",
        "    fc_input_size = calculate_conv_output_size()\n",
        "\n",
        "    n_fc_layers = trial.suggest_int('n_fc_layers', 1, 3)\n",
        "    fc_layers = []\n",
        "\n",
        "    prev_size = fc_input_size\n",
        "    for i in range(n_fc_layers):\n",
        "        fc_size = trial.suggest_categorical(f'fc_{i}_size', [128, 256, 512, 1024])\n",
        "        fc_layers.extend([\n",
        "            nn.Linear(prev_size, fc_size),\n",
        "            nn.ReLU(),\n",
        "            nn.Dropout(trial.suggest_float(f'dropout_{i}', 0.2, 0.5))\n",
        "        ])\n",
        "        prev_size = fc_size\n",
        "\n",
        "    fc_layers.append(nn.Linear(prev_size, num_classes))\n",
        "\n",
        "    class OptimizedCNN(nn.Module):\n",
        "        def __init__(self):\n",
        "            super(OptimizedCNN, self).__init__()\n",
        "            self.conv_layers = nn.Sequential(*conv_layers)\n",
        "            self.fc_layers = nn.Sequential(*fc_layers)\n",
        "\n",
        "        def forward(self, x):\n",
        "            x = self.conv_layers(x)\n",
        "            x = x.view(x.size(0), -1)\n",
        "            x = self.fc_layers(x)\n",
        "            return x\n",
        "\n",
        "    return OptimizedCNN()"
      ]
    },
    {
      "cell_type": "code",
      "execution_count": null,
      "metadata": {
        "id": "u-pF8F7NE1KL"
      },
      "outputs": [],
      "source": [
        "def objective(trial):\n",
        "    lr = trial.suggest_loguniform('lr', 1e-4, 1e-2)\n",
        "    batch_size = trial.suggest_categorical('batch_size', [16, 32, 64, 128])\n",
        "\n",
        "    transform = transforms.Compose([\n",
        "        transforms.Resize((128, 128)),\n",
        "        transforms.RandomHorizontalFlip(),\n",
        "        transforms.ToTensor(),\n",
        "        transforms.Normalize(mean=[0.5, 0.5, 0.5], std=[0.5, 0.5, 0.5])\n",
        "    ])\n",
        "\n",
        "    path_DS = 'animals10/raw-img'\n",
        "    dataset = datasets.ImageFolder(root=path_DS, transform=transform)\n",
        "    num_classes = len(dataset.classes)\n",
        "\n",
        "    total_size = len(dataset)\n",
        "    train_size = int(0.8 * total_size)\n",
        "    val_size = total_size - train_size\n",
        "    train_dataset, val_dataset = random_split(dataset, [train_size, val_size])\n",
        "\n",
        "    train_loader = DataLoader(train_dataset, batch_size=batch_size, shuffle=True)\n",
        "    val_loader = DataLoader(val_dataset, batch_size=batch_size, shuffle=False)\n",
        "\n",
        "    device = torch.device(\"cuda\" if torch.cuda.is_available() else \"cpu\")\n",
        "    model = create_model(trial, num_classes).to(device)\n",
        "\n",
        "    optimizer = optim.Adam(model.parameters(), lr=lr)\n",
        "    criterion = nn.CrossEntropyLoss()\n",
        "\n",
        "    best_val_accuracy = 0\n",
        "    for epoch in range(10):\n",
        "        model.train()\n",
        "        for inputs, labels in train_loader:\n",
        "            inputs, labels = inputs.to(device), labels.to(device)\n",
        "            optimizer.zero_grad()\n",
        "            outputs = model(inputs)\n",
        "            loss = criterion(outputs, labels)\n",
        "            loss.backward()\n",
        "            optimizer.step()\n",
        "\n",
        "        model.eval()\n",
        "        correct, total = 0, 0\n",
        "        with torch.no_grad():\n",
        "            for inputs, labels in val_loader:\n",
        "                inputs, labels = inputs.to(device), labels.to(device)\n",
        "                outputs = model(inputs)\n",
        "                _, predicted = torch.max(outputs.data, 1)\n",
        "                total += labels.size(0)\n",
        "                correct += (predicted == labels).sum().item()\n",
        "\n",
        "        val_accuracy = correct / total\n",
        "        best_val_accuracy = max(best_val_accuracy, val_accuracy)\n",
        "\n",
        "        trial.report(val_accuracy, epoch)\n",
        "\n",
        "        if trial.should_prune():\n",
        "            raise optuna.exceptions.TrialPruned()\n",
        "\n",
        "    return best_val_accuracy"
      ]
    },
    {
      "cell_type": "code",
      "execution_count": null,
      "metadata": {},
      "outputs": [],
      "source": [
        "def run_hyperparameter_optimization():\n",
        "    study = optuna.create_study(\n",
        "        direction='maximize',\n",
        "        pruner=optuna.pruners.MedianPruner(n_startup_trials=5, n_warmup_steps=3)\n",
        "    )\n",
        "\n",
        "    study.optimize(objective, n_trials=50)\n",
        "\n",
        "    print(\"Найкращі гіперпараметри:\", study.best_params)\n",
        "    print(\"Найкраща точність:\", study.best_value)\n",
        "\n",
        "    return study.best_params, study.best_value"
      ]
    },
    {
      "cell_type": "code",
      "execution_count": null,
      "metadata": {
        "id": "6BH-SmmFLKRu"
      },
      "outputs": [],
      "source": [
        "def objective(trial):\n",
        "    print(f\"\\nПочаток тріалу {trial.number}\")\n",
        "\n",
        "    lr = trial.suggest_loguniform('lr', 1e-4, 1e-2)\n",
        "    batch_size = trial.suggest_categorical('batch_size', [16, 32, 64, 128])\n",
        "\n",
        "    transform = transforms.Compose([\n",
        "        transforms.Resize((128, 128)),\n",
        "        transforms.RandomHorizontalFlip(),\n",
        "        transforms.ToTensor(),\n",
        "        transforms.Normalize(mean=[0.5, 0.5, 0.5], std=[0.5, 0.5, 0.5])\n",
        "    ])\n",
        "\n",
        "    path_DS = 'animals10/raw-img'\n",
        "    dataset = datasets.ImageFolder(root=path_DS, transform=transform)\n",
        "    num_classes = len(dataset.classes)\n",
        "\n",
        "    total_size = len(dataset)\n",
        "    train_size = int(0.8 * total_size)\n",
        "    val_size = total_size - train_size\n",
        "    train_dataset, val_dataset = random_split(dataset, [train_size, val_size])\n",
        "\n",
        "    train_loader = DataLoader(train_dataset, batch_size=batch_size, shuffle=True)\n",
        "    val_loader = DataLoader(val_dataset, batch_size=batch_size, shuffle=False)\n",
        "\n",
        "    device = torch.device(\"cuda\" if torch.cuda.is_available() else \"cpu\")\n",
        "    model = create_model(trial, num_classes).to(device)\n",
        "\n",
        "    optimizer = optim.Adam(model.parameters(), lr=lr)\n",
        "    criterion = nn.CrossEntropyLoss()\n",
        "\n",
        "    epoch_accuracies = []\n",
        "    for epoch in tqdm(range(10), desc=f\"Навчання (LR: {lr}, Batch: {batch_size})\"):\n",
        "        # Навчання\n",
        "        model.train()\n",
        "        total_train_loss = 0\n",
        "        for inputs, labels in train_loader:\n",
        "            inputs, labels = inputs.to(device), labels.to(device)\n",
        "            optimizer.zero_grad()\n",
        "            outputs = model(inputs)\n",
        "            loss = criterion(outputs, labels)\n",
        "            loss.backward()\n",
        "            optimizer.step()\n",
        "            total_train_loss += loss.item()\n",
        "        model.eval()\n",
        "        correct, total = 0, 0\n",
        "        with torch.no_grad():\n",
        "            for inputs, labels in val_loader:\n",
        "                inputs, labels = inputs.to(device), labels.to(device)\n",
        "                outputs = model(inputs)\n",
        "                _, predicted = torch.max(outputs.data, 1)\n",
        "                total += labels.size(0)\n",
        "                correct += (predicted == labels).sum().item()\n",
        "\n",
        "        val_accuracy = correct / total\n",
        "        epoch_accuracies.append(val_accuracy)\n",
        "\n",
        "        trial.report(val_accuracy, epoch)\n",
        "\n",
        "        if trial.should_prune():\n",
        "            raise optuna.exceptions.TrialPruned()\n",
        "\n",
        "    return max(epoch_accuracies)\n"
      ]
    },
    {
      "cell_type": "code",
      "execution_count": null,
      "metadata": {},
      "outputs": [],
      "source": [
        "def run_hyperparameter_optimization():\n",
        "    study = optuna.create_study(\n",
        "        direction='maximize',\n",
        "        pruner=optuna.pruners.MedianPruner(n_startup_trials=5, n_warmup_steps=3),\n",
        "        study_name='Animal Classification Hyperparameter Optimization'\n",
        "    )\n",
        "\n",
        "    optuna.logging.enable_default_handler()\n",
        "    optuna.logging.enable_propagation()\n",
        "    optuna.logging.set_verbosity(optuna.logging.INFO)\n",
        "\n",
        "    study.optimize(objective, n_trials=10)\n",
        "\n",
        "    try:\n",
        "        plt.figure(figsize=(10, 6))\n",
        "        plt.title('Еволюція найкращої точності')\n",
        "        plt.plot(study.trials_dataframe()['value'])\n",
        "        plt.xlabel('Номер тріалу')\n",
        "        plt.ylabel('Точність')\n",
        "        plt.tight_layout()\n",
        "        plt.savefig('hyperparameter_optimization_history.png')\n",
        "        plt.close()\n",
        "    except Exception as e:\n",
        "        print(f\"Помилка при створенні графіку: {e}\")\n",
        "\n",
        "    print(\"\\n--- Результати оптимізації ---\")\n",
        "    print(\"Найкращі гіперпараметри:\", study.best_params)\n",
        "    print(\"Найкраща точність:\", study.best_value)\n",
        "\n",
        "    try:\n",
        "        with open('hyperparameter_optimization_report.txt', 'w') as f:\n",
        "            f.write(\"Звіт оптимізації гіперпараметрів\\n\")\n",
        "            f.write(\"=====================================\\n\")\n",
        "            f.write(f\"Найкращі гіперпараметри: {study.best_params}\\n\")\n",
        "            f.write(f\"Найкраща точність: {study.best_value}\\n\")\n",
        "            f.write(\"\\nДеталі всіх тріалів:\\n\")\n",
        "            for trial in study.trials:\n",
        "                f.write(f\"Тріал {trial.number}: Параметри {trial.params}, Точність {trial.value}\\n\")\n",
        "    except Exception as e:\n",
        "        print(f\"Помилка при створенні звіту: {e}\")\n",
        "\n",
        "    return study.best_params, study.best_value"
      ]
    },
    {
      "cell_type": "markdown",
      "metadata": {
        "id": "4Wv54RLEvOjZ"
      },
      "source": [
        "Використання Optuna для пошуку гіперпараметрів"
      ]
    },
    {
      "cell_type": "code",
      "execution_count": 30,
      "metadata": {
        "colab": {
          "base_uri": "https://localhost:8080/"
        },
        "id": "9ROYjynZNXn5",
        "outputId": "6c935a91-05ba-4636-f357-b0af17f350f9"
      },
      "outputs": [
        {
          "name": "stderr",
          "output_type": "stream",
          "text": [
            "[I 2025-03-26 16:28:11,543] A new study created in memory with name: Animal Classification Hyperparameter Optimization\n",
            "INFO:optuna.storages._in_memory:A new study created in memory with name: Animal Classification Hyperparameter Optimization\n",
            "<ipython-input-29-cfc7458a46bf>:6: FutureWarning: suggest_loguniform has been deprecated in v3.0.0. This feature will be removed in v6.0.0. See https://github.com/optuna/optuna/releases/tag/v3.0.0. Use suggest_float(..., log=True) instead.\n",
            "  lr = trial.suggest_loguniform('lr', 1e-4, 1e-2)\n"
          ]
        },
        {
          "name": "stdout",
          "output_type": "stream",
          "text": [
            "\n",
            "Початок тріалу 0\n"
          ]
        },
        {
          "name": "stderr",
          "output_type": "stream",
          "text": [
            "Навчання (LR: 0.0007380687318695055, Batch: 64): 100%|██████████| 10/10 [15:01<00:00, 90.12s/it]\n",
            "[I 2025-03-26 16:43:12,870] Trial 0 finished with value: 0.6617647058823529 and parameters: {'lr': 0.0007380687318695055, 'batch_size': 64, 'n_conv_layers': 4, 'initial_channels': 128, 'conv_0_out_channels': 64, 'conv_1_out_channels': 256, 'conv_2_out_channels': 256, 'conv_3_out_channels': 64, 'n_fc_layers': 1, 'fc_0_size': 256, 'dropout_0': 0.21577401776872118}. Best is trial 0 with value: 0.6617647058823529.\n",
            "INFO:optuna.study.study:Trial 0 finished with value: 0.6617647058823529 and parameters: {'lr': 0.0007380687318695055, 'batch_size': 64, 'n_conv_layers': 4, 'initial_channels': 128, 'conv_0_out_channels': 64, 'conv_1_out_channels': 256, 'conv_2_out_channels': 256, 'conv_3_out_channels': 64, 'n_fc_layers': 1, 'fc_0_size': 256, 'dropout_0': 0.21577401776872118}. Best is trial 0 with value: 0.6617647058823529.\n"
          ]
        },
        {
          "name": "stdout",
          "output_type": "stream",
          "text": [
            "\n",
            "Початок тріалу 1\n"
          ]
        },
        {
          "name": "stderr",
          "output_type": "stream",
          "text": [
            "Навчання (LR: 0.00010370098997556227, Batch: 64): 100%|██████████| 10/10 [15:00<00:00, 90.03s/it]\n",
            "[I 2025-03-26 16:58:13,254] Trial 1 finished with value: 0.6873567608861727 and parameters: {'lr': 0.00010370098997556227, 'batch_size': 64, 'n_conv_layers': 4, 'initial_channels': 64, 'conv_0_out_channels': 256, 'conv_1_out_channels': 128, 'conv_2_out_channels': 64, 'conv_3_out_channels': 64, 'n_fc_layers': 2, 'fc_0_size': 512, 'dropout_0': 0.24734744921424534, 'fc_1_size': 1024, 'dropout_1': 0.24715336762524887}. Best is trial 1 with value: 0.6873567608861727.\n",
            "INFO:optuna.study.study:Trial 1 finished with value: 0.6873567608861727 and parameters: {'lr': 0.00010370098997556227, 'batch_size': 64, 'n_conv_layers': 4, 'initial_channels': 64, 'conv_0_out_channels': 256, 'conv_1_out_channels': 128, 'conv_2_out_channels': 64, 'conv_3_out_channels': 64, 'n_fc_layers': 2, 'fc_0_size': 512, 'dropout_0': 0.24734744921424534, 'fc_1_size': 1024, 'dropout_1': 0.24715336762524887}. Best is trial 1 with value: 0.6873567608861727.\n"
          ]
        },
        {
          "name": "stdout",
          "output_type": "stream",
          "text": [
            "\n",
            "Початок тріалу 2\n"
          ]
        },
        {
          "name": "stderr",
          "output_type": "stream",
          "text": [
            "Навчання (LR: 0.00032159231595668935, Batch: 64): 100%|██████████| 10/10 [14:06<00:00, 84.68s/it]\n",
            "[I 2025-03-26 17:12:20,398] Trial 2 finished with value: 0.7526737967914439 and parameters: {'lr': 0.00032159231595668935, 'batch_size': 64, 'n_conv_layers': 4, 'initial_channels': 64, 'conv_0_out_channels': 128, 'conv_1_out_channels': 64, 'conv_2_out_channels': 256, 'conv_3_out_channels': 128, 'n_fc_layers': 1, 'fc_0_size': 1024, 'dropout_0': 0.37519808299731244}. Best is trial 2 with value: 0.7526737967914439.\n",
            "INFO:optuna.study.study:Trial 2 finished with value: 0.7526737967914439 and parameters: {'lr': 0.00032159231595668935, 'batch_size': 64, 'n_conv_layers': 4, 'initial_channels': 64, 'conv_0_out_channels': 128, 'conv_1_out_channels': 64, 'conv_2_out_channels': 256, 'conv_3_out_channels': 128, 'n_fc_layers': 1, 'fc_0_size': 1024, 'dropout_0': 0.37519808299731244}. Best is trial 2 with value: 0.7526737967914439.\n"
          ]
        },
        {
          "name": "stdout",
          "output_type": "stream",
          "text": [
            "\n",
            "Початок тріалу 3\n"
          ]
        },
        {
          "name": "stderr",
          "output_type": "stream",
          "text": [
            "Навчання (LR: 0.0001651069164199473, Batch: 64): 100%|██████████| 10/10 [18:05<00:00, 108.55s/it]\n",
            "[I 2025-03-26 17:30:26,237] Trial 3 finished with value: 0.7293735676088617 and parameters: {'lr': 0.0001651069164199473, 'batch_size': 64, 'n_conv_layers': 3, 'initial_channels': 128, 'conv_0_out_channels': 256, 'conv_1_out_channels': 256, 'conv_2_out_channels': 256, 'n_fc_layers': 1, 'fc_0_size': 256, 'dropout_0': 0.4668559346762712}. Best is trial 2 with value: 0.7526737967914439.\n",
            "INFO:optuna.study.study:Trial 3 finished with value: 0.7293735676088617 and parameters: {'lr': 0.0001651069164199473, 'batch_size': 64, 'n_conv_layers': 3, 'initial_channels': 128, 'conv_0_out_channels': 256, 'conv_1_out_channels': 256, 'conv_2_out_channels': 256, 'n_fc_layers': 1, 'fc_0_size': 256, 'dropout_0': 0.4668559346762712}. Best is trial 2 with value: 0.7526737967914439.\n"
          ]
        },
        {
          "name": "stdout",
          "output_type": "stream",
          "text": [
            "\n",
            "Початок тріалу 4\n"
          ]
        },
        {
          "name": "stderr",
          "output_type": "stream",
          "text": [
            "Навчання (LR: 0.0005009775469887506, Batch: 128): 100%|██████████| 10/10 [14:13<00:00, 85.34s/it]\n",
            "[I 2025-03-26 17:44:40,263] Trial 4 finished with value: 0.6892666157372039 and parameters: {'lr': 0.0005009775469887506, 'batch_size': 128, 'n_conv_layers': 2, 'initial_channels': 32, 'conv_0_out_channels': 256, 'conv_1_out_channels': 128, 'n_fc_layers': 1, 'fc_0_size': 256, 'dropout_0': 0.421229195775391}. Best is trial 2 with value: 0.7526737967914439.\n",
            "INFO:optuna.study.study:Trial 4 finished with value: 0.6892666157372039 and parameters: {'lr': 0.0005009775469887506, 'batch_size': 128, 'n_conv_layers': 2, 'initial_channels': 32, 'conv_0_out_channels': 256, 'conv_1_out_channels': 128, 'n_fc_layers': 1, 'fc_0_size': 256, 'dropout_0': 0.421229195775391}. Best is trial 2 with value: 0.7526737967914439.\n"
          ]
        },
        {
          "name": "stdout",
          "output_type": "stream",
          "text": [
            "\n",
            "Початок тріалу 5\n"
          ]
        },
        {
          "name": "stderr",
          "output_type": "stream",
          "text": [
            "Навчання (LR: 0.00788255306089612, Batch: 32):  30%|███       | 3/10 [06:13<14:31, 124.52s/it]\n",
            "[I 2025-03-26 17:50:54,085] Trial 5 pruned. \n",
            "INFO:optuna.study._optimize:Trial 5 pruned. \n"
          ]
        },
        {
          "name": "stdout",
          "output_type": "stream",
          "text": [
            "\n",
            "Початок тріалу 6\n"
          ]
        },
        {
          "name": "stderr",
          "output_type": "stream",
          "text": [
            "Навчання (LR: 0.0013969006202019028, Batch: 32):  30%|███       | 3/10 [05:37<13:07, 112.44s/it]\n",
            "[I 2025-03-26 17:56:31,535] Trial 6 pruned. \n",
            "INFO:optuna.study._optimize:Trial 6 pruned. \n"
          ]
        },
        {
          "name": "stdout",
          "output_type": "stream",
          "text": [
            "\n",
            "Початок тріалу 7\n"
          ]
        },
        {
          "name": "stderr",
          "output_type": "stream",
          "text": [
            "Навчання (LR: 0.0013332065612355023, Batch: 16):  30%|███       | 3/10 [06:07<14:18, 122.60s/it]\n",
            "[I 2025-03-26 18:02:39,484] Trial 7 pruned. \n",
            "INFO:optuna.study._optimize:Trial 7 pruned. \n"
          ]
        },
        {
          "name": "stdout",
          "output_type": "stream",
          "text": [
            "\n",
            "Початок тріалу 8\n"
          ]
        },
        {
          "name": "stderr",
          "output_type": "stream",
          "text": [
            "Навчання (LR: 0.002162924982376065, Batch: 64):  30%|███       | 3/10 [06:05<14:12, 121.79s/it]\n",
            "[I 2025-03-26 18:08:45,087] Trial 8 pruned. \n",
            "INFO:optuna.study._optimize:Trial 8 pruned. \n"
          ]
        },
        {
          "name": "stdout",
          "output_type": "stream",
          "text": [
            "\n",
            "Початок тріалу 9\n"
          ]
        },
        {
          "name": "stderr",
          "output_type": "stream",
          "text": [
            "Навчання (LR: 0.0006177692135814439, Batch: 16): 100%|██████████| 10/10 [14:16<00:00, 85.60s/it]\n",
            "[I 2025-03-26 18:23:01,301] Trial 9 finished with value: 0.7337662337662337 and parameters: {'lr': 0.0006177692135814439, 'batch_size': 16, 'n_conv_layers': 4, 'initial_channels': 64, 'conv_0_out_channels': 128, 'conv_1_out_channels': 128, 'conv_2_out_channels': 128, 'conv_3_out_channels': 256, 'n_fc_layers': 2, 'fc_0_size': 128, 'dropout_0': 0.21993023251827432, 'fc_1_size': 1024, 'dropout_1': 0.411053854481769}. Best is trial 2 with value: 0.7526737967914439.\n",
            "INFO:optuna.study.study:Trial 9 finished with value: 0.7337662337662337 and parameters: {'lr': 0.0006177692135814439, 'batch_size': 16, 'n_conv_layers': 4, 'initial_channels': 64, 'conv_0_out_channels': 128, 'conv_1_out_channels': 128, 'conv_2_out_channels': 128, 'conv_3_out_channels': 256, 'n_fc_layers': 2, 'fc_0_size': 128, 'dropout_0': 0.21993023251827432, 'fc_1_size': 1024, 'dropout_1': 0.411053854481769}. Best is trial 2 with value: 0.7526737967914439.\n"
          ]
        },
        {
          "name": "stdout",
          "output_type": "stream",
          "text": [
            "\n",
            "--- Результати оптимізації ---\n",
            "Найкращі гіперпараметри: {'lr': 0.00032159231595668935, 'batch_size': 64, 'n_conv_layers': 4, 'initial_channels': 64, 'conv_0_out_channels': 128, 'conv_1_out_channels': 64, 'conv_2_out_channels': 256, 'conv_3_out_channels': 128, 'n_fc_layers': 1, 'fc_0_size': 1024, 'dropout_0': 0.37519808299731244}\n",
            "Найкраща точність: 0.7526737967914439\n"
          ]
        }
      ],
      "source": [
        "best_params, best_accuracy = run_hyperparameter_optimization()"
      ]
    }
  ],
  "metadata": {
    "accelerator": "GPU",
    "colab": {
      "gpuType": "T4",
      "provenance": []
    },
    "kernelspec": {
      "display_name": "Python 3",
      "name": "python3"
    },
    "language_info": {
      "name": "python"
    }
  },
  "nbformat": 4,
  "nbformat_minor": 0
}
